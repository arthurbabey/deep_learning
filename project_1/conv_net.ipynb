{
 "cells": [
  {
   "cell_type": "code",
   "execution_count": 1,
   "metadata": {},
   "outputs": [],
   "source": [
    "import torch\n",
    "from torch import nn\n",
    "from torch.nn import functional as F\n",
    "\n",
    "import dlc_practical_prologue as prolog\n",
    "\n",
    "import matplotlib.pyplot as plt\n",
    "%matplotlib inline"
   ]
  },
  {
   "cell_type": "code",
   "execution_count": 2,
   "metadata": {},
   "outputs": [],
   "source": [
    "import torch.optim as optim\n",
    "\n",
    "\n",
    "def nb_errors(pred, truth):\n",
    "    \n",
    "    pred_class = pred.argmax(1)\n",
    "    return (pred_class - truth != 0).sum().item()\n",
    "        \n",
    "def train_model(model, train_input, train_target, test_input, test_target,  epochs=500, batch_size=100, lr=0.1):\n",
    "    \n",
    "\n",
    "    \n",
    "    optimizer = torch.optim.Adam(model.parameters())\n",
    "    train_loss = []\n",
    "    test_loss = []\n",
    "    test_accuracy = []\n",
    "    best_accuracy = 0\n",
    "    best_epoch = 0\n",
    "    \n",
    "    for i in range(epochs):\n",
    "        for b in range(0, train_input.size(0), batch_size):\n",
    "            optimizer.zero_grad()\n",
    "            output = model(train_input.narrow(0, b, batch_size))\n",
    "            criterion = torch.nn.CrossEntropyLoss()\n",
    "            loss = criterion(output, train_target.narrow(0, b, batch_size))\n",
    "            loss.backward()\n",
    "            optimizer.step()\n",
    "        \n",
    "        output_train = model(train_input)\n",
    "        output_test = model(test_input)\n",
    "        train_loss.append(criterion(output_train, train_target).item())\n",
    "        test_loss.append(criterion(output_test, test_target).item())\n",
    "        accuracy = 1 - nb_errors(output_test, test_target) / 1000\n",
    "        \n",
    "        if accuracy > best_accuracy:\n",
    "            best_accuracy = accuracy\n",
    "            best_epoch = i+1\n",
    "        test_accuracy.append(accuracy)\n",
    "        \n",
    "        if i%10 == 0:\n",
    "            print('Epoch : ',i+1, '\\t', 'test loss :', test_loss[-1], '\\t', 'train loss', train_loss[-1])\n",
    "        \n",
    "    return train_loss, test_loss, test_accuracy, best_accuracy        "
   ]
  },
  {
   "cell_type": "code",
   "execution_count": 3,
   "metadata": {},
   "outputs": [],
   "source": [
    "class ConvNet(nn.Module):\n",
    "    def __init__(self):\n",
    "        super(ConvNet, self).__init__()\n",
    "        nb_hidden = 100\n",
    "        self.conv1 = nn.Conv2d(2, 8, kernel_size=3)\n",
    "        self.conv2 = nn.Conv2d(8, 16, kernel_size=3)\n",
    "        self.fc1 = nn.Linear(64, nb_hidden)\n",
    "        self.fc2 = nn.Linear(nb_hidden, 2)\n",
    "\n",
    "    def forward(self, x):\n",
    "        x = F.max_pool2d(F.relu(self.conv1(x)), (2, 2))\n",
    "        x = F.max_pool2d(F.relu(self.conv2(x)), 2)\n",
    "        x = x.view(-1, 64)\n",
    "        x = F.relu(self.fc1(x))\n",
    "        x = F.relu(self.fc2(x))\n",
    "        return x\n",
    "\n",
    "    def num_flat_features(self, x):\n",
    "        size = x.size()[1:]  # all dimensions except the batch dimension\n",
    "        num_features = 1\n",
    "        for s in size:\n",
    "            num_features *= s\n",
    "        return num_features"
   ]
  },
  {
   "cell_type": "code",
   "execution_count": 4,
   "metadata": {},
   "outputs": [],
   "source": [
    "train_input, train_target, train_classes, test_input, test_target, test_classes = prolog.generate_pair_sets(1000)"
   ]
  },
  {
   "cell_type": "code",
   "execution_count": 5,
   "metadata": {},
   "outputs": [],
   "source": [
    "model = ConvNet()"
   ]
  },
  {
   "cell_type": "code",
   "execution_count": 6,
   "metadata": {},
   "outputs": [
    {
     "name": "stdout",
     "output_type": "stream",
     "text": [
      "Epoch :  1 \t test loss : 0.6751659512519836 \t train loss 0.6364557147026062\n",
      "Epoch :  11 \t test loss : 0.7134395241737366 \t train loss 0.18941248953342438\n",
      "Epoch :  21 \t test loss : 0.9486087560653687 \t train loss 0.018192851915955544\n",
      "Epoch :  31 \t test loss : 1.2022900581359863 \t train loss 0.008553817868232727\n",
      "Epoch :  41 \t test loss : 1.5456879138946533 \t train loss 0.046072859317064285\n",
      "Epoch :  51 \t test loss : 1.8352928161621094 \t train loss 0.050852298736572266\n",
      "Epoch :  61 \t test loss : 1.155489206314087 \t train loss 0.020578213036060333\n",
      "Epoch :  71 \t test loss : 1.3722349405288696 \t train loss 0.002038997132331133\n",
      "Epoch :  81 \t test loss : 1.520166039466858 \t train loss 0.0010207854211330414\n",
      "Epoch :  91 \t test loss : 1.590381383895874 \t train loss 0.000893681775778532\n",
      "Epoch :  101 \t test loss : 1.6455200910568237 \t train loss 0.0008310938137583435\n",
      "Epoch :  111 \t test loss : 1.6919188499450684 \t train loss 0.0007935957401059568\n",
      "Epoch :  121 \t test loss : 1.734903335571289 \t train loss 0.0007684750016778708\n",
      "Epoch :  131 \t test loss : 1.775956392288208 \t train loss 0.0007506044930778444\n",
      "Epoch :  141 \t test loss : 1.8135690689086914 \t train loss 0.0007377696456387639\n",
      "Epoch :  151 \t test loss : 1.0017019510269165 \t train loss 0.05035604164004326\n",
      "Epoch :  161 \t test loss : 1.4655956029891968 \t train loss 0.0004468213301151991\n",
      "Epoch :  171 \t test loss : 1.5646792650222778 \t train loss 0.0001960008085006848\n",
      "Epoch :  181 \t test loss : 1.626029133796692 \t train loss 0.00011920162796741351\n",
      "Epoch :  191 \t test loss : 1.6735039949417114 \t train loss 8.096839883364737e-05\n"
     ]
    }
   ],
   "source": [
    "train_loss, test_loss, test_accuracy, best_accuracy = \\\n",
    "train_model(model, train_input, train_target, test_input, test_target, epochs=200, batch_size = 25)"
   ]
  },
  {
   "cell_type": "code",
   "execution_count": 8,
   "metadata": {},
   "outputs": [
    {
     "data": {
      "text/plain": [
       "0.731"
      ]
     },
     "execution_count": 8,
     "metadata": {},
     "output_type": "execute_result"
    }
   ],
   "source": [
    "best_accuracy"
   ]
  },
  {
   "cell_type": "code",
   "execution_count": null,
   "metadata": {},
   "outputs": [],
   "source": []
  }
 ],
 "metadata": {
  "kernelspec": {
   "display_name": "Python 3",
   "language": "python",
   "name": "python3"
  },
  "language_info": {
   "codemirror_mode": {
    "name": "ipython",
    "version": 3
   },
   "file_extension": ".py",
   "mimetype": "text/x-python",
   "name": "python",
   "nbconvert_exporter": "python",
   "pygments_lexer": "ipython3",
   "version": "3.7.3"
  }
 },
 "nbformat": 4,
 "nbformat_minor": 2
}
