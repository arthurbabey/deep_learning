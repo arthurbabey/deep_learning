{
 "cells": [
  {
   "cell_type": "code",
   "execution_count": 1,
   "metadata": {},
   "outputs": [],
   "source": [
    "import torch\n",
    "from torch import nn\n",
    "\n",
    "import dlc_practical_prologue as prolog"
   ]
  },
  {
   "cell_type": "code",
   "execution_count": 2,
   "metadata": {},
   "outputs": [],
   "source": [
    "def nb_errors(pred, truth):\n",
    "    \n",
    "    pred_class = pred.argmax(1)\n",
    "    return (pred_class - truth != 0).sum().item()\n",
    "\n",
    "def nb_errors_10(pred, truth):\n",
    "    \n",
    "    pred_class = pred.view(-1, 2, 10).argmax(2).argmax(1)\n",
    "    return (pred_class - truth != 0).sum().item()\n",
    "\n",
    "def train_model(model, train_input, train_target, test_input, test_target,  epochs=250, batch_size=100, lr=0.1):\n",
    "    \n",
    "    for i in range(0,len(model),2): #2 without BatchNorm, 3 with BatchNorm\n",
    "        torch.nn.init.xavier_uniform_(model[i].weight)\n",
    "    \n",
    "    optimizer = torch.optim.Adam(model.parameters())\n",
    "    train_loss = []\n",
    "    test_loss = []\n",
    "    test_accuracy = []\n",
    "    best_accuracy = 0\n",
    "    best_epoch = 0\n",
    "    \n",
    "    for i in range(epochs):\n",
    "        for b in range(0, train_input.size(0), batch_size):\n",
    "            output = model(train_input.narrow(0, b, batch_size))\n",
    "            criterion = torch.nn.CrossEntropyLoss()\n",
    "            loss = criterion(output, train_target.narrow(0, b, batch_size))\n",
    "            optimizer.zero_grad()\n",
    "            loss.backward()\n",
    "            optimizer.step()\n",
    "        \n",
    "        output_train = model(train_input)\n",
    "        output_test = model(test_input)\n",
    "        train_loss.append(criterion(output_train, train_target).item())\n",
    "        test_loss.append(criterion(output_test, test_target).item())\n",
    "        accuracy = 1 - nb_errors(output_test, test_target) / 1000\n",
    "        \n",
    "        if accuracy > best_accuracy:\n",
    "            best_accuracy = accuracy\n",
    "            best_epoch = i+1\n",
    "        test_accuracy.append(accuracy)\n",
    "        \n",
    "    return train_loss, test_loss, test_accuracy, best_accuracy\n",
    "\n",
    "def train_model_10(model, train_input, train_classes, test_input, test_target, test_classes,\\\n",
    "                epochs=250, batch_size=100, lr=0.1):\n",
    "    \n",
    "    for i in range(0,len(model),2): #2 without BatchNorm, 3 with BatchNorm\n",
    "        torch.nn.init.xavier_uniform_(model[i].weight)\n",
    "        \n",
    "    optimizer = torch.optim.Adam(model.parameters())\n",
    "    train_loss = []\n",
    "    test_loss = []\n",
    "    test_accuracy = []\n",
    "    best_accuracy = 0\n",
    "    best_epoch = 0\n",
    "    \n",
    "    for i in range(epochs):\n",
    "        for b in range(0, train_input.size(0), batch_size):\n",
    "            output = model(train_input.narrow(0, b, batch_size))\n",
    "            criterion = torch.nn.CrossEntropyLoss()\n",
    "            loss = criterion(output, train_classes.narrow(0, b, batch_size))\n",
    "            optimizer.zero_grad()\n",
    "            loss.backward()\n",
    "            optimizer.step()\n",
    "        \n",
    "        output_train = model(train_input)\n",
    "        output_test = model(test_input)\n",
    "        train_loss.append(criterion(output_train, train_classes).item())\n",
    "        test_loss.append(criterion(output_test, test_classes).item())\n",
    "        accuracy = 1 - nb_errors_10(output_test, test_target) / 1000\n",
    "        \n",
    "        if accuracy > best_accuracy:\n",
    "            best_accuracy = accuracy\n",
    "            best_epoch = i+1\n",
    "        test_accuracy.append(accuracy)\n",
    "       \n",
    "    return train_loss, test_loss, test_accuracy, best_accuracy"
   ]
  },
  {
   "cell_type": "markdown",
   "metadata": {},
   "source": [
    "### Direct Approach - 2 dimensional output"
   ]
  },
  {
   "cell_type": "code",
   "execution_count": 3,
   "metadata": {},
   "outputs": [],
   "source": [
    "input_dim = 2*14*14\n",
    "output_dim = 2\n",
    "\n",
    "#Number of parameters : (dim_input*hidden_dim1 + hidden_dim1*hidden_dim2 + hidden_dim2*hidden_dim3 + \n",
    "# hidden_dim3*dim_output + hidden_dim1 + hidden_dim2 + hidden_dim3 + dim_output)\n",
    "\n",
    "model1 = nn.Sequential(nn.Linear(input_dim, 128), nn.ReLU(), nn.Linear(128, output_dim))\n",
    "#50562 parameters\n",
    "\n",
    "model2 = nn.Sequential(nn.Linear(input_dim, 256), nn.ReLU(), nn.Linear(256, output_dim))\n",
    "#101112 parameters\n",
    "\n",
    "model3 = nn.Sequential(nn.Linear(input_dim, 512), nn.ReLU(), nn.Linear(512, output_dim))\n",
    "#202242 parameters\n",
    "\n",
    "model4 = nn.Sequential(nn.Linear(input_dim, 1024), nn.ReLU(), nn.Linear(1024, output_dim))\n",
    "#404482 parameters\n",
    "\n",
    "model5 = nn.Sequential(nn.Linear(input_dim, 128), nn.ReLU(), nn.Linear(128, 256), nn.ReLU(), \\\n",
    "                       nn.Linear(256, output_dim))\n",
    "#83842 parameters\n",
    "\n",
    "model6 = nn.Sequential(nn.Linear(input_dim, 256), nn.ReLU(), nn.Linear(256, 512), nn.ReLU(), \\\n",
    "                       nn.Linear(512, output_dim))\n",
    "#233218 parameters\n",
    "\n",
    "model7 = nn.Sequential(nn.Linear(input_dim, 512), nn.ReLU(), nn.Linear(512, 1024), nn.ReLU(), \\\n",
    "                       nn.Linear(1024, output_dim))\n",
    "#728578 parameters\n",
    "\n",
    "model8 = nn.Sequential(nn.Linear(input_dim, 128), nn.ReLU(), nn.Linear(128, 256), nn.ReLU(), nn.Linear(256, 512),\\\n",
    "                       nn.ReLU(), nn.Linear(512, output_dim))\n",
    "#215938 parameters\n",
    "\n",
    "model9 = nn.Sequential(nn.Linear(input_dim, 256), nn.ReLU(), nn.Linear(256, 512), nn.ReLU(), nn.Linear(512, 1024),\\\n",
    "                       nn.ReLU(), nn.Linear(1024, output_dim))\n",
    "#759554 parameters\n",
    "\n",
    "model10 = nn.Sequential(nn.Linear(input_dim, 128), nn.ReLU(), nn.Linear(128, 256), nn.ReLU(), nn.Linear(256, 512),\\\n",
    "                       nn.ReLU(), nn.Linear(512, 1024), nn.ReLU(), nn.Linear(1024, output_dim))\n",
    "#742274 parameters\n",
    "\n",
    "model11 = nn.Sequential(nn.Linear(input_dim, 64), nn.ReLU(), nn.Linear(64, 128), nn.ReLU(), nn.Linear(128, 256),\\\n",
    "                       nn.ReLU(), nn.Linear(256, 512), nn.ReLU(), nn.Linear(512, output_dim))\n",
    "#200066 parameters\n",
    "\n",
    "model12 = nn.Sequential(nn.Linear(input_dim, 256), nn.ReLU(), nn.Linear(256, 512), nn.ReLU(), nn.Linear(512, 1024),\\\n",
    "                       nn.ReLU(), nn.Linear(1024, 2048), nn.ReLU(), nn.Linear(2048, output_dim))\n",
    "#2'860'802 parameters\n",
    "\n",
    "model13 = nn.Sequential(nn.Linear(input_dim, 64), nn.ReLU(), nn.Linear(64, 128), nn.ReLU(), nn.Linear(128, 256),\\\n",
    "                       nn.ReLU(), nn.Linear(256, 512), nn.ReLU(), nn.Linear(512, 1024), nn.ReLU(), \\\n",
    "                        nn.Linear(1024, output_dim))\n",
    "#725442 parameters\n",
    "\n",
    "model14 = nn.Sequential(nn.Linear(input_dim, 128), nn.ReLU(), nn.Linear(128, 256), nn.ReLU(), nn.Linear(256, 512),\\\n",
    "                       nn.ReLU(), nn.Linear(512, 1024), nn.ReLU(), nn.Linear(1024, 2048), nn.ReLU(), \\\n",
    "                        nn.Linear(2048, output_dim))\n",
    "#2'841'538 parameters\n",
    "\n",
    "model15 = nn.Sequential(nn.Linear(input_dim, 256), nn.ReLU(), nn.Linear(256, 512), nn.ReLU(), nn.Linear(512, 1024),\\\n",
    "                       nn.ReLU(), nn.Linear(1024, 2048), nn.ReLU(), nn.Linear(2048, 4096), nn.ReLU(), \\\n",
    "                        nn.Linear(4096, output_dim))\n",
    "#11'251'650 parameters\n",
    "\n",
    "models = [model1, model2, model3, model4, model5, model6, model7, model8, model9, model10, model11, model12,\\\n",
    "          model13, model14, model15]"
   ]
  },
  {
   "cell_type": "code",
   "execution_count": 4,
   "metadata": {},
   "outputs": [],
   "source": [
    "epochs = 30\n",
    "accuracies = torch.empty(15, 10, dtype=torch.float)\n",
    "\n",
    "for i in range(10):\n",
    "    train_input, train_target, train_classes, test_input, test_target, test_classes = prolog.generate_pair_sets(1000)\n",
    "    train_input_direct = train_input.view(-1, input_dim)\n",
    "    test_input_direct = test_input.view(-1, input_dim)\n",
    "    for j in range(15):\n",
    "        _, _, _, best_accuracy = train_model(models[j], train_input_direct, train_target, test_input_direct,\\\n",
    "                                             test_target, epochs=epochs)\n",
    "        accuracies[j][i] = best_accuracy"
   ]
  },
  {
   "cell_type": "markdown",
   "metadata": {},
   "source": [
    "### Direct Approach - 10 dimensional output with deterministic comparison"
   ]
  },
  {
   "cell_type": "code",
   "execution_count": 5,
   "metadata": {},
   "outputs": [],
   "source": [
    "input_dim = 14*14\n",
    "output_dim = 10\n",
    "\n",
    "#Number of parameters : (dim_input*hidden_dim1 + hidden_dim1*hidden_dim2 + hidden_dim2*hidden_dim3 + \n",
    "# hidden_dim3*dim_output + hidden_dim1 + hidden_dim2 + hidden_dim3 + dim_output)\n",
    "\n",
    "model1 = nn.Sequential(nn.Linear(input_dim, 128), nn.ReLU(), nn.Linear(128, output_dim))\n",
    "#26'506 parameters\n",
    "\n",
    "model2 = nn.Sequential(nn.Linear(input_dim, 256), nn.ReLU(), nn.Linear(256, output_dim))\n",
    "#53'002 parameters\n",
    "\n",
    "model3 = nn.Sequential(nn.Linear(input_dim, 512), nn.ReLU(), nn.Linear(512, output_dim))\n",
    "#105'994 parameters\n",
    "\n",
    "model4 = nn.Sequential(nn.Linear(input_dim, 1024), nn.ReLU(), nn.Linear(1024, output_dim))\n",
    "#211'978 parameters\n",
    "\n",
    "model5 = nn.Sequential(nn.Linear(input_dim, 128), nn.ReLU(), nn.Linear(128, 256), nn.ReLU(), \\\n",
    "                       nn.Linear(256, output_dim))\n",
    "#60'810 parameters\n",
    "\n",
    "model6 = nn.Sequential(nn.Linear(input_dim, 256), nn.ReLU(), nn.Linear(256, 512), nn.ReLU(), \\\n",
    "                       nn.Linear(512, output_dim))\n",
    "#187'146 parameters\n",
    "\n",
    "model7 = nn.Sequential(nn.Linear(input_dim, 512), nn.ReLU(), nn.Linear(512, 1024), nn.ReLU(), \\\n",
    "                       nn.Linear(1024, output_dim))\n",
    "#636'426 parameters\n",
    "\n",
    "model8 = nn.Sequential(nn.Linear(input_dim, 128), nn.ReLU(), nn.Linear(128, 256), nn.ReLU(), nn.Linear(256, 512),\\\n",
    "                       nn.ReLU(), nn.Linear(512, output_dim))\n",
    "#194'954 parameters\n",
    "\n",
    "model9 = nn.Sequential(nn.Linear(input_dim, 256), nn.ReLU(), nn.Linear(256, 512), nn.ReLU(), nn.Linear(512, 1024),\\\n",
    "                       nn.ReLU(), nn.Linear(1024, output_dim))\n",
    "#717'578 parameters\n",
    "\n",
    "model10 = nn.Sequential(nn.Linear(input_dim, 128), nn.ReLU(), nn.Linear(128, 256), nn.ReLU(), nn.Linear(256, 512),\\\n",
    "                       nn.ReLU(), nn.Linear(512, 1024), nn.ReLU(), nn.Linear(1024, output_dim))\n",
    "#724'362 parameters\n",
    "\n",
    "model11 = nn.Sequential(nn.Linear(input_dim, 64), nn.ReLU(), nn.Linear(64, 128), nn.ReLU(), nn.Linear(128, 256),\\\n",
    "                       nn.ReLU(), nn.Linear(256, 512), nn.ReLU(), nn.Linear(512, output_dim))\n",
    "#190'666 parameters\n",
    "\n",
    "model12 = nn.Sequential(nn.Linear(input_dim, 256), nn.ReLU(), nn.Linear(256, 512), nn.ReLU(), nn.Linear(512, 1024),\\\n",
    "                       nn.ReLU(), nn.Linear(1024, 2048), nn.ReLU(), nn.Linear(2048, output_dim))\n",
    "#2'827'018 parameters\n",
    "\n",
    "model13 = nn.Sequential(nn.Linear(input_dim, 64), nn.ReLU(), nn.Linear(64, 128), nn.ReLU(), nn.Linear(128, 256),\\\n",
    "                       nn.ReLU(), nn.Linear(256, 512), nn.ReLU(), nn.Linear(512, 1024), nn.ReLU(), \\\n",
    "                        nn.Linear(1024, output_dim))\n",
    "#721'098 parameters\n",
    "\n",
    "model14 = nn.Sequential(nn.Linear(input_dim, 128), nn.ReLU(), nn.Linear(128, 256), nn.ReLU(), nn.Linear(256, 512),\\\n",
    "                       nn.ReLU(), nn.Linear(512, 1024), nn.ReLU(), nn.Linear(1024, 2048), nn.ReLU(), \\\n",
    "                        nn.Linear(2048, output_dim))\n",
    "#2'834'826 parameters\n",
    "\n",
    "model15 = nn.Sequential(nn.Linear(input_dim, 256), nn.ReLU(), nn.Linear(256, 512), nn.ReLU(), nn.Linear(512, 1024),\\\n",
    "                       nn.ReLU(), nn.Linear(1024, 2048), nn.ReLU(), nn.Linear(2048, 4096), nn.ReLU(), \\\n",
    "                        nn.Linear(4096, output_dim))\n",
    "#11'240'202 parameters\n",
    "\n",
    "models = [model1, model2, model3, model4, model5, model6, model7, model8, model9, model10, model11, model12,\\\n",
    "          model13, model14, model15]"
   ]
  },
  {
   "cell_type": "code",
   "execution_count": 6,
   "metadata": {},
   "outputs": [],
   "source": [
    "epochs = 100\n",
    "accuracies_aux = torch.empty(15, 10, dtype=torch.float)\n",
    "\n",
    "for i in range(10):\n",
    "    train_input, train_target, train_classes, test_input, test_target, test_classes = prolog.generate_pair_sets(1000)\n",
    "    train_input_aux = train_input.view(-1, input_dim)\n",
    "    test_input_aux = test_input.view(-1, input_dim)\n",
    "    train_classes_aux = train_classes.view(2000)\n",
    "    test_classes_aux = test_classes.view(2000)\n",
    "    for j in range(15):\n",
    "        _, _, _, best_accuracy = train_model_10(models[j], train_input_aux, train_classes_aux, \\\n",
    "                                                       test_input_aux, test_target, test_classes_aux, \\\n",
    "                                                       epochs=epochs)\n",
    "        accuracies_aux[j][i] = best_accuracy"
   ]
  },
  {
   "cell_type": "code",
   "execution_count": 8,
   "metadata": {},
   "outputs": [
    {
     "data": {
      "text/plain": [
       "tensor([0.7628, 0.7782, 0.8028, 0.8031, 0.7536, 0.7677, 0.7823, 0.7497, 0.7651,\n",
       "        0.7453, 0.7149, 0.7713, 0.7168, 0.7519, 0.7849])"
      ]
     },
     "execution_count": 8,
     "metadata": {},
     "output_type": "execute_result"
    }
   ],
   "source": [
    "accuracies.mean(1)"
   ]
  },
  {
   "cell_type": "code",
   "execution_count": 9,
   "metadata": {},
   "outputs": [
    {
     "data": {
      "text/plain": [
       "tensor([0.0142, 0.0198, 0.0119, 0.0211, 0.0152, 0.0150, 0.0120, 0.0187, 0.0136,\n",
       "        0.0135, 0.0169, 0.0156, 0.0216, 0.0167, 0.0079])"
      ]
     },
     "execution_count": 9,
     "metadata": {},
     "output_type": "execute_result"
    }
   ],
   "source": [
    "accuracies.std(1)"
   ]
  },
  {
   "cell_type": "code",
   "execution_count": 12,
   "metadata": {},
   "outputs": [
    {
     "data": {
      "text/plain": [
       "torch.return_types.median(\n",
       "values=tensor([0.7580, 0.7800, 0.8030, 0.8090, 0.7570, 0.7720, 0.7790, 0.7500, 0.7600,\n",
       "        0.7420, 0.7170, 0.7710, 0.7230, 0.7550, 0.7850]),\n",
       "indices=tensor([9, 1, 6, 5, 4, 7, 9, 3, 1, 1, 6, 2, 2, 8, 3]))"
      ]
     },
     "execution_count": 12,
     "metadata": {},
     "output_type": "execute_result"
    }
   ],
   "source": [
    "accuracies.median(1)"
   ]
  },
  {
   "cell_type": "code",
   "execution_count": 13,
   "metadata": {},
   "outputs": [
    {
     "data": {
      "text/plain": [
       "torch.return_types.max(\n",
       "values=tensor([0.7880, 0.8070, 0.8180, 0.8240, 0.7810, 0.7880, 0.8120, 0.7840, 0.7870,\n",
       "        0.7660, 0.7400, 0.7940, 0.7340, 0.7680, 0.7990]),\n",
       "indices=tensor([2, 6, 9, 6, 6, 3, 6, 2, 6, 5, 0, 6, 3, 7, 1]))"
      ]
     },
     "execution_count": 13,
     "metadata": {},
     "output_type": "execute_result"
    }
   ],
   "source": [
    "accuracies.max(1)"
   ]
  },
  {
   "cell_type": "code",
   "execution_count": 14,
   "metadata": {},
   "outputs": [
    {
     "data": {
      "text/plain": [
       "torch.return_types.min(\n",
       "values=tensor([0.7410, 0.7460, 0.7820, 0.7520, 0.7240, 0.7360, 0.7670, 0.7130, 0.7450,\n",
       "        0.7220, 0.6880, 0.7410, 0.6650, 0.7090, 0.7730]),\n",
       "indices=tensor([8, 8, 1, 8, 9, 4, 8, 4, 0, 3, 3, 8, 9, 9, 8]))"
      ]
     },
     "execution_count": 14,
     "metadata": {},
     "output_type": "execute_result"
    }
   ],
   "source": [
    "accuracies.min(1)"
   ]
  },
  {
   "cell_type": "markdown",
   "metadata": {},
   "source": [
    "Model 3 and 4 seem to be the best"
   ]
  },
  {
   "cell_type": "code",
   "execution_count": 15,
   "metadata": {},
   "outputs": [
    {
     "data": {
      "text/plain": [
       "tensor([0.9176, 0.9294, 0.9485, 0.9563, 0.9238, 0.9427, 0.9497, 0.9308, 0.9447,\n",
       "        0.9334, 0.9152, 0.9468, 0.9153, 0.9351, 0.9543])"
      ]
     },
     "execution_count": 15,
     "metadata": {},
     "output_type": "execute_result"
    }
   ],
   "source": [
    "accuracies_aux.mean(1)"
   ]
  },
  {
   "cell_type": "code",
   "execution_count": 16,
   "metadata": {},
   "outputs": [
    {
     "data": {
      "text/plain": [
       "tensor([0.0086, 0.0073, 0.0073, 0.0046, 0.0084, 0.0043, 0.0089, 0.0082, 0.0034,\n",
       "        0.0093, 0.0105, 0.0071, 0.0061, 0.0079, 0.0059])"
      ]
     },
     "execution_count": 16,
     "metadata": {},
     "output_type": "execute_result"
    }
   ],
   "source": [
    "accuracies_aux.std(1)"
   ]
  },
  {
   "cell_type": "code",
   "execution_count": 17,
   "metadata": {},
   "outputs": [
    {
     "data": {
      "text/plain": [
       "torch.return_types.median(\n",
       "values=tensor([0.9160, 0.9290, 0.9490, 0.9570, 0.9220, 0.9430, 0.9530, 0.9320, 0.9430,\n",
       "        0.9310, 0.9130, 0.9460, 0.9150, 0.9350, 0.9530]),\n",
       "indices=tensor([9, 4, 5, 5, 3, 6, 4, 3, 3, 7, 9, 0, 7, 5, 7]))"
      ]
     },
     "execution_count": 17,
     "metadata": {},
     "output_type": "execute_result"
    }
   ],
   "source": [
    "accuracies_aux.median(1)"
   ]
  },
  {
   "cell_type": "code",
   "execution_count": 18,
   "metadata": {},
   "outputs": [
    {
     "data": {
      "text/plain": [
       "torch.return_types.max(\n",
       "values=tensor([0.9320, 0.9420, 0.9600, 0.9640, 0.9410, 0.9500, 0.9600, 0.9450, 0.9500,\n",
       "        0.9460, 0.9280, 0.9620, 0.9260, 0.9450, 0.9640]),\n",
       "indices=tensor([8, 0, 9, 8, 8, 8, 9, 8, 1, 8, 6, 8, 6, 0, 8]))"
      ]
     },
     "execution_count": 18,
     "metadata": {},
     "output_type": "execute_result"
    }
   ],
   "source": [
    "accuracies_aux.max(1)"
   ]
  },
  {
   "cell_type": "code",
   "execution_count": 19,
   "metadata": {},
   "outputs": [
    {
     "data": {
      "text/plain": [
       "torch.return_types.min(\n",
       "values=tensor([0.9060, 0.9200, 0.9350, 0.9480, 0.9130, 0.9350, 0.9330, 0.9160, 0.9410,\n",
       "        0.9140, 0.8940, 0.9380, 0.9080, 0.9220, 0.9460]),\n",
       "indices=tensor([7, 3, 4, 7, 2, 1, 2, 1, 2, 1, 8, 4, 3, 2, 4]))"
      ]
     },
     "execution_count": 19,
     "metadata": {},
     "output_type": "execute_result"
    }
   ],
   "source": [
    "accuracies_aux.min(1)"
   ]
  },
  {
   "cell_type": "markdown",
   "metadata": {},
   "source": [
    "Model 4 seems to be the best"
   ]
  },
  {
   "cell_type": "markdown",
   "metadata": {},
   "source": [
    "The best models have 200'000-400'000 parameters, we try to create other models with this number of parameters but different architectures"
   ]
  },
  {
   "cell_type": "markdown",
   "metadata": {},
   "source": [
    "### Direct Approach Again"
   ]
  },
  {
   "cell_type": "code",
   "execution_count": 3,
   "metadata": {},
   "outputs": [],
   "source": [
    "input_dim = 2*14*14\n",
    "output_dim = 2\n",
    "\n",
    "model16 = nn.Sequential(nn.Linear(input_dim, 200), nn.ReLU(), nn.Linear(200, 200), nn.ReLU(), nn.Linear(200, 200),\\\n",
    "                       nn.ReLU(), nn.Linear(200, 200), nn.ReLU(), nn.Linear(200, 200), nn.ReLU(), \\\n",
    "                        nn.Linear(200, output_dim))\n",
    "#239'802 parameters\n",
    "\n",
    "model17 = nn.Sequential(nn.Linear(input_dim, 200), nn.ReLU(), nn.Linear(200, 200), nn.ReLU(), nn.Linear(200, 200),\\\n",
    "                       nn.ReLU(), nn.Linear(200, 200), nn.ReLU(), nn.Linear(200, output_dim))\n",
    "#199'602 parameters\n",
    "\n",
    "model18 = nn.Sequential(nn.Linear(input_dim, 300), nn.ReLU(), nn.Linear(300, 300), nn.ReLU(), nn.Linear(300, 300),\\\n",
    "                       nn.ReLU(), nn.Linear(300, 300), nn.ReLU(), nn.Linear(300, output_dim))\n",
    "#389'402 parameters\n",
    "\n",
    "model19 = nn.Sequential(nn.Linear(input_dim, 512), nn.ReLU(), nn.Linear(512, 256), nn.ReLU(), nn.Linear(256, 128),\\\n",
    "                       nn.ReLU(), nn.Linear(128, output_dim))\n",
    "#266'378 parameters\n",
    "\n",
    "model20 = nn.Sequential(nn.Linear(input_dim, 100), nn.ReLU(), nn.Linear(100, 100), nn.ReLU(), nn.Linear(100, 100),\\\n",
    "                       nn.ReLU(), nn.Linear(100, 100), nn.ReLU(), nn.Linear(100, 100), nn.ReLU(),\\\n",
    "                        nn.Linear(100, 100), nn.ReLU(), nn.Linear(100, 100), nn.ReLU(), nn.Linear(100, 100),\\\n",
    "                        nn.ReLU(), nn.Linear(100, 100), nn.ReLU(), nn.Linear(100, 100), nn.ReLU(),\\\n",
    "                        nn.Linear(100, 100), nn.ReLU(), nn.Linear(100, 100), nn.ReLU(), nn.Linear(100, 100),\\\n",
    "                        nn.ReLU(), nn.Linear(100, 100), nn.ReLU(), nn.Linear(100, 100), nn.ReLU(),\\\n",
    "                        nn.Linear(100, 100), nn.ReLU(), nn.Linear(100, 100), nn.ReLU(),\\\n",
    "                        nn.Linear(100, output_dim))\n",
    "#201'102 parameters\n",
    "\n",
    "models = [model16, model17, model18, model19, model20]"
   ]
  },
  {
   "cell_type": "code",
   "execution_count": 4,
   "metadata": {},
   "outputs": [],
   "source": [
    "epochs = 50\n",
    "accuracies = torch.empty(5, 10, dtype=torch.float)\n",
    "\n",
    "for i in range(10):\n",
    "    train_input, train_target, train_classes, test_input, test_target, test_classes = prolog.generate_pair_sets(1000)\n",
    "    train_input_direct = train_input.view(-1, input_dim)\n",
    "    test_input_direct = test_input.view(-1, input_dim)\n",
    "    for j in range(5):\n",
    "        _, _, _, best_accuracy = train_model(models[j], train_input_direct, train_target, test_input_direct,\\\n",
    "                                             test_target, epochs=epochs)\n",
    "        accuracies[j][i] = best_accuracy"
   ]
  },
  {
   "cell_type": "code",
   "execution_count": 5,
   "metadata": {},
   "outputs": [
    {
     "data": {
      "text/plain": [
       "tensor([0.7582, 0.7434, 0.7684, 0.7816, 0.7928])"
      ]
     },
     "execution_count": 5,
     "metadata": {},
     "output_type": "execute_result"
    }
   ],
   "source": [
    "accuracies.mean(1)"
   ]
  },
  {
   "cell_type": "code",
   "execution_count": 6,
   "metadata": {},
   "outputs": [
    {
     "data": {
      "text/plain": [
       "tensor([0.0129, 0.0172, 0.0160, 0.0139, 0.0154])"
      ]
     },
     "execution_count": 6,
     "metadata": {},
     "output_type": "execute_result"
    }
   ],
   "source": [
    "accuracies.std(1)"
   ]
  },
  {
   "cell_type": "code",
   "execution_count": 7,
   "metadata": {},
   "outputs": [
    {
     "data": {
      "text/plain": [
       "torch.return_types.median(\n",
       "values=tensor([0.7580, 0.7410, 0.7660, 0.7750, 0.7900]),\n",
       "indices=tensor([9, 3, 8, 2, 0]))"
      ]
     },
     "execution_count": 7,
     "metadata": {},
     "output_type": "execute_result"
    }
   ],
   "source": [
    "accuracies.median(1)"
   ]
  },
  {
   "cell_type": "code",
   "execution_count": 8,
   "metadata": {},
   "outputs": [
    {
     "data": {
      "text/plain": [
       "torch.return_types.max(\n",
       "values=tensor([0.7830, 0.7680, 0.7940, 0.8040, 0.8280]),\n",
       "indices=tensor([3, 5, 5, 5, 5]))"
      ]
     },
     "execution_count": 8,
     "metadata": {},
     "output_type": "execute_result"
    }
   ],
   "source": [
    "accuracies.max(1)"
   ]
  },
  {
   "cell_type": "code",
   "execution_count": 9,
   "metadata": {},
   "outputs": [
    {
     "data": {
      "text/plain": [
       "torch.return_types.min(\n",
       "values=tensor([0.7390, 0.7210, 0.7410, 0.7600, 0.7680]),\n",
       "indices=tensor([8, 8, 1, 3, 8]))"
      ]
     },
     "execution_count": 9,
     "metadata": {},
     "output_type": "execute_result"
    }
   ],
   "source": [
    "accuracies.min(1)"
   ]
  },
  {
   "cell_type": "markdown",
   "metadata": {},
   "source": [
    "### Auxiliary Approach Again"
   ]
  },
  {
   "cell_type": "code",
   "execution_count": 10,
   "metadata": {},
   "outputs": [],
   "source": [
    "input_dim = 14*14\n",
    "output_dim = 10\n",
    "\n",
    "model16 = nn.Sequential(nn.Linear(input_dim, 200), nn.ReLU(), nn.Linear(200, 200), nn.ReLU(), nn.Linear(200, 200),\\\n",
    "                       nn.ReLU(), nn.Linear(200, 200), nn.ReLU(), nn.Linear(200, 200), nn.ReLU(), \\\n",
    "                        nn.Linear(200, output_dim))\n",
    "#202'210 parameters\n",
    "\n",
    "model17 = nn.Sequential(nn.Linear(input_dim, 200), nn.ReLU(), nn.Linear(200, 200), nn.ReLU(), nn.Linear(200, 200),\\\n",
    "                       nn.ReLU(), nn.Linear(200, 200), nn.ReLU(), nn.Linear(200, output_dim))\n",
    "#162'010 parameters\n",
    "\n",
    "model18 = nn.Sequential(nn.Linear(input_dim, 300), nn.ReLU(), nn.Linear(300, 300), nn.ReLU(), nn.Linear(300, 300),\\\n",
    "                       nn.ReLU(), nn.Linear(300, 300), nn.ReLU(), nn.Linear(300, output_dim))\n",
    "#333'010 parameters\n",
    "\n",
    "model19 = nn.Sequential(nn.Linear(input_dim, 512), nn.ReLU(), nn.Linear(512, 256), nn.ReLU(), nn.Linear(256, 128),\\\n",
    "                        nn.ReLU(), nn.Linear(128, output_dim))\n",
    "#365'698 parameters\n",
    "\n",
    "model20 = nn.Sequential(nn.Linear(input_dim, 100), nn.ReLU(), nn.Linear(100, 100), nn.ReLU(), nn.Linear(100, 100),\\\n",
    "                       nn.ReLU(), nn.Linear(100, 100), nn.ReLU(), nn.Linear(100, 100), nn.ReLU(),\\\n",
    "                        nn.Linear(100, 100), nn.ReLU(), nn.Linear(100, 100), nn.ReLU(), nn.Linear(100, 100),\\\n",
    "                        nn.ReLU(), nn.Linear(100, 100), nn.ReLU(), nn.Linear(100, 100), nn.ReLU(),\\\n",
    "                        nn.Linear(100, 100), nn.ReLU(), nn.Linear(100, 100), nn.ReLU(), nn.Linear(100, 100),\\\n",
    "                        nn.ReLU(), nn.Linear(100, 100), nn.ReLU(), nn.Linear(100, 100), nn.ReLU(),\\\n",
    "                        nn.Linear(100, 100), nn.ReLU(), nn.Linear(100, 100), nn.ReLU(),\\\n",
    "                        nn.Linear(100, output_dim))\n",
    "#231'610 parameters\n",
    "\n",
    "models = [model16, model17, model18, model19, model20]"
   ]
  },
  {
   "cell_type": "code",
   "execution_count": 11,
   "metadata": {},
   "outputs": [],
   "source": [
    "epochs = 100\n",
    "accuracies_aux = torch.empty(5, 10, dtype=torch.float)\n",
    "\n",
    "for i in range(10):\n",
    "    train_input, train_target, train_classes, test_input, test_target, test_classes = prolog.generate_pair_sets(1000)\n",
    "    train_input_aux = train_input.view(-1, input_dim)\n",
    "    test_input_aux = test_input.view(-1, input_dim)\n",
    "    train_classes_aux = train_classes.view(2000)\n",
    "    test_classes_aux = test_classes.view(2000)\n",
    "    for j in range(5):\n",
    "        _, _, _, best_accuracy = train_model_10(models[j], train_input_aux, train_classes_aux, \\\n",
    "                                                       test_input_aux, test_target, test_classes_aux, \\\n",
    "                                                       epochs=epochs)\n",
    "        accuracies_aux[j][i] = best_accuracy"
   ]
  },
  {
   "cell_type": "code",
   "execution_count": 12,
   "metadata": {},
   "outputs": [
    {
     "data": {
      "text/plain": [
       "tensor([0.9340, 0.9228, 0.9415, 0.9430, 0.9499])"
      ]
     },
     "execution_count": 12,
     "metadata": {},
     "output_type": "execute_result"
    }
   ],
   "source": [
    "accuracies_aux.mean(1)"
   ]
  },
  {
   "cell_type": "code",
   "execution_count": 13,
   "metadata": {},
   "outputs": [
    {
     "data": {
      "text/plain": [
       "tensor([0.0091, 0.0080, 0.0062, 0.0080, 0.0073])"
      ]
     },
     "execution_count": 13,
     "metadata": {},
     "output_type": "execute_result"
    }
   ],
   "source": [
    "accuracies_aux.std(1)"
   ]
  },
  {
   "cell_type": "code",
   "execution_count": 14,
   "metadata": {},
   "outputs": [
    {
     "data": {
      "text/plain": [
       "torch.return_types.median(\n",
       "values=tensor([0.9360, 0.9220, 0.9400, 0.9420, 0.9490]),\n",
       "indices=tensor([2, 0, 9, 8, 6]))"
      ]
     },
     "execution_count": 14,
     "metadata": {},
     "output_type": "execute_result"
    }
   ],
   "source": [
    "accuracies_aux.median(1)"
   ]
  },
  {
   "cell_type": "code",
   "execution_count": 15,
   "metadata": {},
   "outputs": [
    {
     "data": {
      "text/plain": [
       "torch.return_types.max(\n",
       "values=tensor([0.9510, 0.9320, 0.9540, 0.9530, 0.9600]),\n",
       "indices=tensor([7, 7, 7, 6, 7]))"
      ]
     },
     "execution_count": 15,
     "metadata": {},
     "output_type": "execute_result"
    }
   ],
   "source": [
    "accuracies_aux.max(1)"
   ]
  },
  {
   "cell_type": "code",
   "execution_count": 16,
   "metadata": {},
   "outputs": [
    {
     "data": {
      "text/plain": [
       "torch.return_types.min(\n",
       "values=tensor([0.9210, 0.9060, 0.9300, 0.9290, 0.9350]),\n",
       "indices=tensor([4, 4, 4, 4, 0]))"
      ]
     },
     "execution_count": 16,
     "metadata": {},
     "output_type": "execute_result"
    }
   ],
   "source": [
    "accuracies_aux.min(1)"
   ]
  },
  {
   "cell_type": "markdown",
   "metadata": {},
   "source": [
    "### Confusion Matrix"
   ]
  },
  {
   "cell_type": "code",
   "execution_count": 32,
   "metadata": {},
   "outputs": [],
   "source": [
    "def confusion_matrix(pred, y, n_classes):\n",
    "    \n",
    "    conf = torch.zeros(n_classes, n_classes)\n",
    "    for i in range(len(pred)):\n",
    "        conf[y[i].max()][pred[i].argmax()] += 1\n",
    "        \n",
    "    return conf\n",
    "\n",
    "def train_model_10_conf(model, train_input, train_classes, test_input, test_target, test_classes,\\\n",
    "                epochs=250, batch_size=100, lr=0.1):\n",
    "    \n",
    "    for i in range(0,len(model),2):\n",
    "        torch.nn.init.xavier_uniform_(model[i].weight)\n",
    "        \n",
    "    optimizer = torch.optim.Adam(model.parameters())\n",
    "    train_loss = []\n",
    "    test_loss = []\n",
    "    test_accuracy = []\n",
    "    best_accuracy = 0\n",
    "    best_epoch = 0\n",
    "    conf = torch.zeros(10, 10)\n",
    "    \n",
    "    for i in range(epochs):\n",
    "        for b in range(0, train_input.size(0), batch_size):\n",
    "            output = model(train_input.narrow(0, b, batch_size))\n",
    "            criterion = torch.nn.CrossEntropyLoss()\n",
    "            loss = criterion(output, train_classes.narrow(0, b, batch_size))\n",
    "            optimizer.zero_grad()\n",
    "            loss.backward()\n",
    "            optimizer.step()\n",
    "        \n",
    "        output_train = model(train_input)\n",
    "        output_test = model(test_input)\n",
    "        train_loss.append(criterion(output_train, train_classes).item())\n",
    "        test_loss.append(criterion(output_test, test_classes).item())\n",
    "        accuracy = 1 - nb_errors_10(output_test, test_target) / 1000\n",
    "        \n",
    "        if accuracy > best_accuracy:\n",
    "            best_accuracy = accuracy\n",
    "            best_epoch = i+1\n",
    "            conf = confusion_matrix(output_test, test_classes, 10)\n",
    "        test_accuracy.append(accuracy)\n",
    "       \n",
    "    return train_loss, test_loss, test_accuracy, best_accuracy, conf"
   ]
  },
  {
   "cell_type": "code",
   "execution_count": 33,
   "metadata": {},
   "outputs": [],
   "source": [
    "input_dim = 14*14\n",
    "output_dim = 10\n",
    "\n",
    "model = nn.Sequential(nn.Linear(input_dim, 1024), nn.ReLU(), nn.Linear(1024, output_dim))"
   ]
  },
  {
   "cell_type": "code",
   "execution_count": 34,
   "metadata": {},
   "outputs": [],
   "source": [
    "epochs = 100\n",
    "conf = torch.zeros(10, 10)\n",
    "\n",
    "for i in range(10):\n",
    "    train_input, train_target, train_classes, test_input, test_target, test_classes = prolog.generate_pair_sets(1000)\n",
    "    train_input_aux = train_input.view(-1, input_dim)\n",
    "    test_input_aux = test_input.view(-1, input_dim)\n",
    "    train_classes_aux = train_classes.view(2000)\n",
    "    test_classes_aux = test_classes.view(2000)\n",
    "    _, _, _, _, temp_conf = train_model_10_conf(model, train_input_aux, train_classes_aux, test_input_aux,\\\n",
    "                                                 test_target, test_classes_aux, epochs=epochs)\n",
    "    conf += temp_conf"
   ]
  },
  {
   "cell_type": "code",
   "execution_count": 35,
   "metadata": {},
   "outputs": [],
   "source": [
    "for i in range(10):\n",
    "    conf[i] = conf[i] / conf[i].sum()"
   ]
  },
  {
   "cell_type": "code",
   "execution_count": 36,
   "metadata": {},
   "outputs": [
    {
     "data": {
      "image/png": "[encoded data removed]",
      "text/plain": [
       "<Figure size 864x720 with 2 Axes>"
      ]
     },
     "metadata": {
      "needs_background": "light"
     },
     "output_type": "display_data"
    }
   ],
   "source": [
    "import seaborn as sn\n",
    "import pandas as pd\n",
    "import matplotlib.pyplot as plt\n",
    "\n",
    "df_cm = pd.DataFrame(conf.detach().numpy(), index = [i for i in \"0123456789\"],\n",
    "                  columns = [i for i in \"0123456789\"])\n",
    "plt.figure(figsize = (12,10))\n",
    "sn.heatmap(df_cm, annot=True, fmt='.4f');"
   ]
  },
  {
   "cell_type": "markdown",
   "metadata": {},
   "source": [
    "### Adding Batchnorm"
   ]
  },
  {
   "cell_type": "markdown",
   "metadata": {},
   "source": [
    "Best model so far"
   ]
  },
  {
   "cell_type": "code",
   "execution_count": 37,
   "metadata": {},
   "outputs": [],
   "source": [
    "input_dim = 14*14\n",
    "output_dim = 10\n",
    "\n",
    "model = nn.Sequential(nn.Linear(input_dim, 1024), nn.BatchNorm1d(num_features=1024), nn.ReLU(), \\\n",
    "                      nn.Linear(1024, output_dim))"
   ]
  },
  {
   "cell_type": "code",
   "execution_count": 38,
   "metadata": {},
   "outputs": [],
   "source": [
    "epochs = 100\n",
    "accuracies_batch = torch.empty(1, 10, dtype=torch.float)\n",
    "\n",
    "for i in range(10):\n",
    "    train_input, train_target, train_classes, test_input, test_target, test_classes = prolog.generate_pair_sets(1000)\n",
    "    train_input_aux = train_input.view(-1, input_dim)\n",
    "    test_input_aux = test_input.view(-1, input_dim)\n",
    "    train_classes_aux = train_classes.view(2000)\n",
    "    test_classes_aux = test_classes.view(2000)\n",
    "    _, _, _, best_accuracy = train_model_10(model, train_input_aux, train_classes_aux, test_input_aux, \\\n",
    "                                             test_target, test_classes_aux, epochs=epochs)\n",
    "    accuracies_batch[0][i] = best_accuracy"
   ]
  },
  {
   "cell_type": "code",
   "execution_count": 39,
   "metadata": {},
   "outputs": [
    {
     "data": {
      "text/plain": [
       "tensor(0.9524)"
      ]
     },
     "execution_count": 39,
     "metadata": {},
     "output_type": "execute_result"
    }
   ],
   "source": [
    "accuracies_batch.mean()"
   ]
  },
  {
   "cell_type": "code",
   "execution_count": 40,
   "metadata": {},
   "outputs": [
    {
     "data": {
      "text/plain": [
       "tensor(0.0079)"
      ]
     },
     "execution_count": 40,
     "metadata": {},
     "output_type": "execute_result"
    }
   ],
   "source": [
    "accuracies_batch.std()"
   ]
  },
  {
   "cell_type": "code",
   "execution_count": 41,
   "metadata": {},
   "outputs": [
    {
     "data": {
      "text/plain": [
       "tensor(0.9520)"
      ]
     },
     "execution_count": 41,
     "metadata": {},
     "output_type": "execute_result"
    }
   ],
   "source": [
    "accuracies_batch.median()"
   ]
  },
  {
   "cell_type": "code",
   "execution_count": 42,
   "metadata": {},
   "outputs": [
    {
     "data": {
      "text/plain": [
       "tensor(0.9650)"
      ]
     },
     "execution_count": 42,
     "metadata": {},
     "output_type": "execute_result"
    }
   ],
   "source": [
    "accuracies_batch.max()"
   ]
  },
  {
   "cell_type": "code",
   "execution_count": 43,
   "metadata": {},
   "outputs": [
    {
     "data": {
      "text/plain": [
       "tensor(0.9400)"
      ]
     },
     "execution_count": 43,
     "metadata": {},
     "output_type": "execute_result"
    }
   ],
   "source": [
    "accuracies_batch.min()"
   ]
  },
  {
   "cell_type": "code",
   "execution_count": 20,
   "metadata": {},
   "outputs": [],
   "source": [
    "input_dim = 14*14\n",
    "output_dim = 10\n",
    "\n",
    "model1 = nn.Sequential(nn.Linear(input_dim, 200), nn.BatchNorm1d(num_features=200), nn.ReLU(), nn.Linear(200, 200),\\\n",
    "                       nn.BatchNorm1d(num_features=200), nn.ReLU(), nn.Linear(200, 200), \\\n",
    "                       nn.BatchNorm1d(num_features=200), nn.ReLU(), nn.Linear(200, 200), \\\n",
    "                       nn.BatchNorm1d(num_features=200), nn.ReLU(), nn.Linear(200, 200), \\\n",
    "                       nn.BatchNorm1d(num_features=200), nn.ReLU(), nn.Linear(200, output_dim))\n",
    "#202'210 parameters\n",
    "\n",
    "model2 = nn.Sequential(nn.Linear(input_dim, 200), nn.BatchNorm1d(num_features=200), nn.ReLU(), nn.Linear(200, 200),\\\n",
    "                       nn.BatchNorm1d(num_features=200), nn.ReLU(), nn.Linear(200, 200), \\\n",
    "                       nn.BatchNorm1d(num_features=200), nn.ReLU(), nn.Linear(200, 200), \\\n",
    "                       nn.BatchNorm1d(num_features=200), nn.ReLU(), nn.Linear(200, output_dim))\n",
    "#162'010 parameters\n",
    "\n",
    "model3 = nn.Sequential(nn.Linear(input_dim, 300), nn.BatchNorm1d(num_features=300), nn.ReLU(), nn.Linear(300, 300),\\\n",
    "                       nn.BatchNorm1d(num_features=300), nn.ReLU(), nn.Linear(300, 300), \\\n",
    "                       nn.BatchNorm1d(num_features=300), nn.ReLU(), nn.Linear(300, 300), \\\n",
    "                       nn.BatchNorm1d(num_features=300), nn.ReLU(), nn.Linear(300, output_dim))\n",
    "#333'010 parameters\n",
    "\n",
    "model4 = nn.Sequential(nn.Linear(input_dim, 512), nn.BatchNorm1d(num_features=512), nn.ReLU(), nn.Linear(512, 256),\\\n",
    "                       nn.BatchNorm1d(num_features=256), nn.ReLU(), nn.Linear(256, 128), \\\n",
    "                       nn.BatchNorm1d(num_features=128), nn.ReLU(), nn.Linear(128, output_dim))\n",
    "#365'698 parameters\n",
    "\n",
    "model5 = nn.Sequential(nn.Linear(input_dim, 100), nn.BatchNorm1d(num_features=100), nn.ReLU(), nn.Linear(100, 100),\\\n",
    "                       nn.BatchNorm1d(num_features=100), nn.ReLU(), nn.Linear(100, 100), \\\n",
    "                       nn.BatchNorm1d(num_features=100), nn.ReLU(), nn.Linear(100, 100), \\\n",
    "                       nn.BatchNorm1d(num_features=100), nn.ReLU(), nn.Linear(100, 100), \\\n",
    "                       nn.BatchNorm1d(num_features=100), nn.ReLU(), nn.Linear(100, 100), \\\n",
    "                       nn.BatchNorm1d(num_features=100), nn.ReLU(), nn.Linear(100, 100), \\\n",
    "                       nn.BatchNorm1d(num_features=100), nn.ReLU(), nn.Linear(100, 100), \\\n",
    "                       nn.BatchNorm1d(num_features=100), nn.ReLU(), nn.Linear(100, 100), \\\n",
    "                       nn.BatchNorm1d(num_features=100), nn.ReLU(), nn.Linear(100, 100), \\\n",
    "                       nn.BatchNorm1d(num_features=100), nn.ReLU(), nn.Linear(100, 100), \\\n",
    "                       nn.BatchNorm1d(num_features=100), nn.ReLU(), nn.Linear(100, 100), \\\n",
    "                       nn.BatchNorm1d(num_features=100), nn.ReLU(), nn.Linear(100, 100), \\\n",
    "                       nn.BatchNorm1d(num_features=100), nn.ReLU(), nn.Linear(100, 100), \\\n",
    "                       nn.BatchNorm1d(num_features=100), nn.ReLU(), nn.Linear(100, 100), \\\n",
    "                       nn.BatchNorm1d(num_features=100), nn.ReLU(),nn.Linear(100, 100), \\\n",
    "                       nn.BatchNorm1d(num_features=100), nn.ReLU(), nn.Linear(100, 100), \\\n",
    "                       nn.BatchNorm1d(num_features=100), nn.ReLU(), nn.Linear(100, output_dim))\n",
    "#231'610 parameters\n",
    "\n",
    "models = [model1, model2, model3, model4, model5]"
   ]
  },
  {
   "cell_type": "code",
   "execution_count": 21,
   "metadata": {},
   "outputs": [],
   "source": [
    "epochs = 100\n",
    "accuracies_batch = torch.empty(5, 10, dtype=torch.float)\n",
    "\n",
    "for i in range(10):\n",
    "    train_input, train_target, train_classes, test_input, test_target, test_classes = prolog.generate_pair_sets(1000)\n",
    "    train_input_aux = train_input.view(-1, input_dim)\n",
    "    test_input_aux = test_input.view(-1, input_dim)\n",
    "    train_classes_aux = train_classes.view(2000)\n",
    "    test_classes_aux = test_classes.view(2000)\n",
    "    for j in range(5):\n",
    "        _, _, _, best_accuracy = train_model_10(models[j], train_input_aux, train_classes_aux, \\\n",
    "                                                       test_input_aux, test_target, test_classes_aux, \\\n",
    "                                                       epochs=epochs)\n",
    "        accuracies_batch[j][i] = best_accuracy"
   ]
  },
  {
   "cell_type": "code",
   "execution_count": 27,
   "metadata": {},
   "outputs": [
    {
     "data": {
      "text/plain": [
       "tensor([0.9467, 0.9508, 0.9525, 0.9579, 0.8322])"
      ]
     },
     "execution_count": 27,
     "metadata": {},
     "output_type": "execute_result"
    }
   ],
   "source": [
    "accuracies_batch.mean(1)"
   ]
  },
  {
   "cell_type": "code",
   "execution_count": 28,
   "metadata": {},
   "outputs": [
    {
     "data": {
      "text/plain": [
       "tensor([0.0097, 0.0058, 0.0086, 0.0071, 0.0275])"
      ]
     },
     "execution_count": 28,
     "metadata": {},
     "output_type": "execute_result"
    }
   ],
   "source": [
    "accuracies_batch.std(1)"
   ]
  },
  {
   "cell_type": "code",
   "execution_count": 29,
   "metadata": {},
   "outputs": [
    {
     "data": {
      "text/plain": [
       "torch.return_types.median(\n",
       "values=tensor([0.9450, 0.9510, 0.9510, 0.9560, 0.8350]),\n",
       "indices=tensor([0, 6, 5, 2, 4]))"
      ]
     },
     "execution_count": 29,
     "metadata": {},
     "output_type": "execute_result"
    }
   ],
   "source": [
    "accuracies_batch.median(1)"
   ]
  },
  {
   "cell_type": "code",
   "execution_count": 30,
   "metadata": {},
   "outputs": [
    {
     "data": {
      "text/plain": [
       "torch.return_types.max(\n",
       "values=tensor([0.9590, 0.9620, 0.9710, 0.9700, 0.8780]),\n",
       "indices=tensor([9, 4, 9, 9, 0]))"
      ]
     },
     "execution_count": 30,
     "metadata": {},
     "output_type": "execute_result"
    }
   ],
   "source": [
    "accuracies_batch.max(1)"
   ]
  },
  {
   "cell_type": "code",
   "execution_count": 31,
   "metadata": {},
   "outputs": [
    {
     "data": {
      "text/plain": [
       "torch.return_types.min(\n",
       "values=tensor([0.9280, 0.9410, 0.9420, 0.9450, 0.7960]),\n",
       "indices=tensor([3, 3, 3, 3, 2]))"
      ]
     },
     "execution_count": 31,
     "metadata": {},
     "output_type": "execute_result"
    }
   ],
   "source": [
    "accuracies_batch.min(1)"
   ]
  },
  {
   "cell_type": "markdown",
   "metadata": {},
   "source": [
    "### Learning the comparison"
   ]
  },
  {
   "cell_type": "markdown",
   "metadata": {},
   "source": [
    "We take the best model so far and try to make a network that predict 0-1 from the 10-dimensional outputs of the bets model"
   ]
  },
  {
   "cell_type": "code",
   "execution_count": 15,
   "metadata": {},
   "outputs": [],
   "source": [
    "def train_double_model(model, comparison, train_input, train_target, train_classes, test_input, test_target,\\\n",
    "                       test_classes, epochs1=100, epochs2=20, batch_size=100, lr=0.1):\n",
    "    \n",
    "    for i in range(0,len(model),2): #2 without BatchNorm, 3 with BatchNorm\n",
    "        torch.nn.init.xavier_uniform_(model[i].weight)\n",
    "        \n",
    "    for i in range(0, len(comparison), 2):\n",
    "        torch.nn.init.xavier_uniform_(comparison[i].weight)\n",
    "        \n",
    "    optimizer1 = torch.optim.Adam(model.parameters())\n",
    "    optimizer2 = torch.optim.Adam(comparison.parameters())\n",
    "    train_loss = []\n",
    "    test_loss = []\n",
    "    test_accuracy = []\n",
    "    best_accuracy = 0\n",
    "    best_epoch = 0\n",
    "    \n",
    "    for i in range(epochs1):\n",
    "        for b in range(0, train_input.size(0), batch_size):\n",
    "            output = model(train_input.narrow(0, b, batch_size))\n",
    "            criterion = torch.nn.CrossEntropyLoss()\n",
    "            loss1 = criterion(output, train_classes.narrow(0, b, batch_size))\n",
    "            optimizer1.zero_grad()\n",
    "            loss1.backward(retain_graph=True)\n",
    "            optimizer1.step()\n",
    "        \n",
    "        mid_train = model(train_input).detach()\n",
    "        mid_test = model(test_input).detach()\n",
    "        mid_train_ = torch.zeros(int(mid_train.size(0) / 2), 10)\n",
    "        mid_test_ = torch.zeros(int(mid_test.size(0) / 2), 10)\n",
    "        \n",
    "        for i in range(int(mid_train.size(0) / 2)):\n",
    "                mid_train_[i,:] = mid_train[2*i,:] - mid_train[2*i + 1,:]\n",
    "                mid_test_[i,:] = mid_test[2*i,:] - mid_test[2*i + 1,:]\n",
    "        \n",
    "        for j in range(epochs2):\n",
    "            for b in range(0, mid_train_.size(0), batch_size):\n",
    "                output = comparison(mid_train_.narrow(0, b, batch_size))\n",
    "                loss2 = criterion(output, train_target.narrow(0, b, batch_size))\n",
    "                optimizer2.zero_grad()\n",
    "                loss2.backward()\n",
    "                optimizer2.step()\n",
    "                \n",
    "            output_train = comparison(mid_train_)\n",
    "            output_test = comparison(mid_test_)\n",
    "\n",
    "            train_loss.append(criterion(output_train, train_target).item())\n",
    "            test_loss.append(criterion(output_test, test_target).item())\n",
    "            accuracy = 1 - nb_errors(output_test, test_target) / 1000\n",
    "\n",
    "            if accuracy > best_accuracy:\n",
    "                best_accuracy = accuracy\n",
    "                best_epoch = i+1\n",
    "        test_accuracy.append(accuracy)\n",
    "       \n",
    "    return train_loss, test_loss, test_accuracy, best_accuracy"
   ]
  },
  {
   "cell_type": "code",
   "execution_count": 16,
   "metadata": {},
   "outputs": [],
   "source": [
    "input_dim = 14*14\n",
    "intermediate_dim = 10 \n",
    "output_dim = 2\n",
    "\n",
    "model = nn.Sequential(nn.Linear(input_dim, 1024), nn.ReLU(), nn.Linear(1024, intermediate_dim))\n",
    "\n",
    "comparison1 = nn.Sequential(nn.Linear(intermediate_dim, 16), nn.ReLU(), nn.Linear(16, output_dim))\n",
    "                                     \n",
    "comparison2 = nn.Sequential(nn.Linear(intermediate_dim, 64), nn.ReLU(), nn.Linear(64, output_dim))\n",
    "\n",
    "comparison3 = nn.Sequential(nn.Linear(intermediate_dim, 256), nn.ReLU(), nn.Linear(256, output_dim))\n",
    "\n",
    "comparison4 = nn.Sequential(nn.Linear(intermediate_dim, 16), nn.ReLU(), nn.Linear(16, 16), nn.ReLU(),\\\n",
    "                            nn.Linear(16, output_dim))\n",
    "\n",
    "comparison5 = nn.Sequential(nn.Linear(intermediate_dim, 32), nn.ReLU(), nn.Linear(32, 32), nn.ReLU(),\\\n",
    "                            nn.Linear(32, output_dim))\n",
    "\n",
    "comparisons = [comparison1, comparison2, comparison3, comparison4, comparison5]"
   ]
  },
  {
   "cell_type": "code",
   "execution_count": 17,
   "metadata": {},
   "outputs": [],
   "source": [
    "epochs1 = 100\n",
    "epochs2 = 30\n",
    "accuracies = torch.empty(5, 10, dtype=torch.float)\n",
    "\n",
    "for i in range(10):\n",
    "    train_input, train_target, train_classes, test_input, test_target, test_classes = prolog.generate_pair_sets(1000)\n",
    "    train_input = train_input.view(-1, input_dim)\n",
    "    test_input = test_input.view(-1, input_dim)\n",
    "    train_classes = train_classes.view(2000)\n",
    "    test_classes = test_classes.view(2000)\n",
    "    for j in range(5):\n",
    "        _, _, _, best_accuracy = train_double_model(model, comparisons[j], train_input, train_target, train_classes,\\\n",
    "                                 test_input, test_target, test_classes)\n",
    "        accuracies[j][i] = best_accuracy"
   ]
  },
  {
   "cell_type": "code",
   "execution_count": 6,
   "metadata": {},
   "outputs": [
    {
     "data": {
      "text/plain": [
       "tensor([0.8586, 0.8834, 0.8924, 0.8575, 0.8737])"
      ]
     },
     "execution_count": 6,
     "metadata": {},
     "output_type": "execute_result"
    }
   ],
   "source": [
    "accuracies.mean(1)"
   ]
  },
  {
   "cell_type": "code",
   "execution_count": 7,
   "metadata": {},
   "outputs": [
    {
     "data": {
      "text/plain": [
       "tensor([0.0139, 0.0123, 0.0110, 0.0250, 0.0281])"
      ]
     },
     "execution_count": 7,
     "metadata": {},
     "output_type": "execute_result"
    }
   ],
   "source": [
    "accuracies.std(1)"
   ]
  },
  {
   "cell_type": "code",
   "execution_count": 8,
   "metadata": {},
   "outputs": [
    {
     "data": {
      "text/plain": [
       "torch.return_types.median(\n",
       "values=tensor([0.8590, 0.8800, 0.8920, 0.8490, 0.8580]),\n",
       "indices=tensor([5, 0, 8, 6, 1]))"
      ]
     },
     "execution_count": 8,
     "metadata": {},
     "output_type": "execute_result"
    }
   ],
   "source": [
    "accuracies.median(1)"
   ]
  },
  {
   "cell_type": "code",
   "execution_count": 9,
   "metadata": {},
   "outputs": [
    {
     "data": {
      "text/plain": [
       "torch.return_types.max(\n",
       "values=tensor([0.8800, 0.9010, 0.9120, 0.8870, 0.9250]),\n",
       "indices=tensor([8, 4, 4, 2, 4]))"
      ]
     },
     "execution_count": 9,
     "metadata": {},
     "output_type": "execute_result"
    }
   ],
   "source": [
    "accuracies.max(1)"
   ]
  },
  {
   "cell_type": "code",
   "execution_count": 11,
   "metadata": {},
   "outputs": [
    {
     "data": {
      "text/plain": [
       "torch.return_types.min(\n",
       "values=tensor([0.8320, 0.8630, 0.8770, 0.8240, 0.8390]),\n",
       "indices=tensor([3, 9, 9, 9, 3]))"
      ]
     },
     "execution_count": 11,
     "metadata": {},
     "output_type": "execute_result"
    }
   ],
   "source": [
    "accuracies.min(1)"
   ]
  },
  {
   "cell_type": "markdown",
   "metadata": {},
   "source": [
    "### Auxiliary loss"
   ]
  },
  {
   "cell_type": "code",
   "execution_count": 3,
   "metadata": {},
   "outputs": [],
   "source": [
    "class Siamese(nn.Module):\n",
    "    \n",
    "    def __init__(self, input_dim=14*14, intermediate_dim=10, output_dim=2, hidden_dim=256):\n",
    "        super(Siamese, self).__init__()\n",
    "        self.model = nn.Sequential(nn.Linear(input_dim, 1024), nn.ReLU(), nn.Linear(1024, intermediate_dim))\n",
    "        self.comparison = nn.Sequential(nn.Linear(intermediate_dim, hidden_dim), nn.ReLU(),\\\n",
    "                                        nn.Linear(hidden_dim, output_dim))\n",
    "        \n",
    "    def forward1(self, x):\n",
    "        mid = self.model(x)\n",
    "        return mid\n",
    "    \n",
    "    def forward2(self, mid1, mid2):\n",
    "        mid = mid1 - mid2\n",
    "        out = self.comparison(mid)\n",
    "        return out"
   ]
  },
  {
   "cell_type": "code",
   "execution_count": 4,
   "metadata": {},
   "outputs": [],
   "source": [
    "def train_siamese_model(siamese, train_input, train_target, train_classes, test_input, test_target,\\\n",
    "                       test_classes, epochs=100 , batch_size=100, lr=0.1, alpha=0.5):\n",
    "    \n",
    "    for i in range(0,len(siamese.model),2): #2 without BatchNorm, 3 with BatchNorm\n",
    "        torch.nn.init.xavier_uniform_(siamese.model[i].weight)\n",
    "        \n",
    "    for i in range(0, len(siamese.comparison), 2):\n",
    "        torch.nn.init.xavier_uniform_(siamese.comparison[i].weight)\n",
    "        \n",
    "    optimizer = torch.optim.Adam(siamese.parameters())\n",
    "    train_loss = []\n",
    "    test_loss = []\n",
    "    test_accuracy = []\n",
    "    best_accuracy = 0\n",
    "    best_epoch = 0\n",
    "    \n",
    "    for i in range(epochs):\n",
    "        for b in range(0, train_input.size(0), batch_size):\n",
    "            output1 = siamese.forward1(train_input.narrow(0, b, batch_size)[:,0,:])\n",
    "            output2 = siamese.forward1(train_input.narrow(0, b, batch_size)[:,1,:])\n",
    "            criterion = torch.nn.CrossEntropyLoss()\n",
    "            loss1 = criterion(output1, train_classes.narrow(0, b, batch_size)[:,0])\n",
    "            loss2 = criterion(output2, train_classes.narrow(0, b, batch_size)[:,1])\n",
    "            output3 = siamese.forward2(output1, output2)\n",
    "            loss3 = criterion(output3, train_target.narrow(0, b, batch_size))\n",
    "            loss = alpha*(loss1 + loss2) + (1 - alpha)*loss3\n",
    "            optimizer.zero_grad()\n",
    "            loss.backward()\n",
    "            optimizer.step()\n",
    "        \n",
    "        mid_train1 = siamese.forward1(train_input[:,0,:])\n",
    "        train_loss1 = criterion(mid_train1, train_classes[:,0])\n",
    "        mid_train2 = siamese.forward1(train_input[:,1,:])\n",
    "        train_loss2 = criterion(mid_train2, train_classes[:,1])\n",
    "        output_train = siamese.forward2(mid_train1, mid_train2)\n",
    "        train_loss3 = criterion(output_train, train_target)\n",
    "        \n",
    "        mid_test1 = siamese.forward1(test_input[:,0,:])\n",
    "        test_loss1 = criterion(mid_test1, test_classes[:,0])\n",
    "        mid_test2 = siamese.forward1(test_input[:,1,:])\n",
    "        test_loss2 = criterion(mid_test2, train_classes[:,1])\n",
    "        output_test = siamese.forward2(mid_test1, mid_test2)\n",
    "        test_loss3 = criterion(output_test, test_target)\n",
    "\n",
    "        train_loss.append(alpha*(train_loss1 + train_loss2) + (1 - alpha)*train_loss3)\n",
    "        test_loss.append(alpha*(test_loss1 + test_loss2) + (1 - alpha)*test_loss3)\n",
    "        accuracy = 1 - nb_errors(output_test, test_target) / 1000\n",
    "\n",
    "        if accuracy > best_accuracy:\n",
    "            best_accuracy = accuracy\n",
    "            best_epoch = i+1\n",
    "        test_accuracy.append(accuracy)\n",
    "       \n",
    "    return train_loss, test_loss, test_accuracy, best_accuracy"
   ]
  },
  {
   "cell_type": "code",
   "execution_count": 5,
   "metadata": {},
   "outputs": [],
   "source": [
    "siamese1 = Siamese(hidden_dim=4)\n",
    "siamese2 = Siamese(hidden_dim=16)\n",
    "siamese3 = Siamese(hidden_dim=64)\n",
    "siamese4 = Siamese(hidden_dim=256)\n",
    "siamese5 = Siamese(hidden_dim=1024)\n",
    "\n",
    "models = [siamese1, siamese2, siamese3, siamese4, siamese5]"
   ]
  },
  {
   "cell_type": "code",
   "execution_count": 6,
   "metadata": {},
   "outputs": [],
   "source": [
    "input_dim = 14*14\n",
    "accuracies = torch.empty(5, 10, dtype=torch.float)\n",
    "\n",
    "for i in range(10):\n",
    "    train_input, train_target, train_classes, test_input, test_target, test_classes = prolog.generate_pair_sets(1000)\n",
    "    train_input = train_input.view(-1, 2, input_dim)\n",
    "    test_input = test_input.view(-1, 2, input_dim)\n",
    "    for j in range(5):\n",
    "        _, _, _, best_accuracy = train_siamese_model(models[j], train_input, train_target, train_classes, \\\n",
    "                                                     test_input, test_target, test_classes, epochs=200)\n",
    "        accuracies[j][i] = best_accuracy"
   ]
  },
  {
   "cell_type": "code",
   "execution_count": 7,
   "metadata": {},
   "outputs": [
    {
     "data": {
      "text/plain": [
       "tensor([0.7960, 0.7761, 0.7711, 0.8065, 0.8153])"
      ]
     },
     "execution_count": 7,
     "metadata": {},
     "output_type": "execute_result"
    }
   ],
   "source": [
    "accuracies.mean(1)"
   ]
  },
  {
   "cell_type": "code",
   "execution_count": 8,
   "metadata": {},
   "outputs": [
    {
     "data": {
      "text/plain": [
       "tensor([0.0234, 0.0188, 0.0200, 0.0165, 0.0150])"
      ]
     },
     "execution_count": 8,
     "metadata": {},
     "output_type": "execute_result"
    }
   ],
   "source": [
    "accuracies.std(1)"
   ]
  },
  {
   "cell_type": "code",
   "execution_count": 9,
   "metadata": {},
   "outputs": [
    {
     "data": {
      "text/plain": [
       "torch.return_types.median(\n",
       "values=tensor([0.8010, 0.7720, 0.7700, 0.8080, 0.8150]),\n",
       "indices=tensor([2, 7, 8, 8, 5]))"
      ]
     },
     "execution_count": 9,
     "metadata": {},
     "output_type": "execute_result"
    }
   ],
   "source": [
    "accuracies.median(1)"
   ]
  },
  {
   "cell_type": "code",
   "execution_count": 10,
   "metadata": {},
   "outputs": [
    {
     "data": {
      "text/plain": [
       "torch.return_types.max(\n",
       "values=tensor([0.8110, 0.8020, 0.8090, 0.8290, 0.8330]),\n",
       "indices=tensor([7, 6, 0, 0, 0]))"
      ]
     },
     "execution_count": 10,
     "metadata": {},
     "output_type": "execute_result"
    }
   ],
   "source": [
    "accuracies.max(1)"
   ]
  },
  {
   "cell_type": "code",
   "execution_count": 11,
   "metadata": {},
   "outputs": [
    {
     "data": {
      "text/plain": [
       "torch.return_types.min(\n",
       "values=tensor([0.7310, 0.7390, 0.7280, 0.7800, 0.7940]),\n",
       "indices=tensor([9, 2, 2, 4, 9]))"
      ]
     },
     "execution_count": 11,
     "metadata": {},
     "output_type": "execute_result"
    }
   ],
   "source": [
    "accuracies.min(1)"
   ]
  }
 ],
 "metadata": {
  "kernelspec": {
   "display_name": "Python 3",
   "language": "python",
   "name": "python3"
  },
  "language_info": {
   "codemirror_mode": {
    "name": "ipython",
    "version": 3
   },
   "file_extension": ".py",
   "mimetype": "text/x-python",
   "name": "python",
   "nbconvert_exporter": "python",
   "pygments_lexer": "ipython3",
   "version": "3.6.10"
  }
 },
 "nbformat": 4,
 "nbformat_minor": 4
}
